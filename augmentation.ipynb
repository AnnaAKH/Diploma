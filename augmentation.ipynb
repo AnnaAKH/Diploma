{
 "cells": [
  {
   "cell_type": "code",
   "execution_count": 1,
   "metadata": {},
   "outputs": [],
   "source": [
    "import pandas as pd\n",
    "import numpy as np\n",
    "#import keras\n",
    "#from keras import backend as K\n",
    "\n",
    "import tensorflow\n",
    "from tensorflow.keras.layers import Dense, Dropout\n",
    "from tensorflow.keras.optimizers import Adam\n",
    "from tensorflow.keras.metrics import categorical_crossentropy\n",
    "from tensorflow.keras.preprocessing.image import ImageDataGenerator\n",
    "from tensorflow.keras.models import Model\n",
    "from tensorflow.keras.callbacks import EarlyStopping, ReduceLROnPlateau, ModelCheckpoint\n",
    "from numpy.random import seed\n",
    "seed(101)\n",
    "tensorflow.random.set_seed(101)\n",
    "\n",
    "import os\n",
    "\n",
    "from sklearn.metrics import confusion_matrix\n",
    "from sklearn.model_selection import train_test_split\n",
    "import itertools\n",
    "import shutil\n",
    "import matplotlib.pyplot as plt\n",
    "%matplotlib inline"
   ]
  },
  {
   "cell_type": "code",
   "execution_count": 2,
   "metadata": {},
   "outputs": [
    {
     "data": {
      "text/plain": [
       "['!code',\n",
       " 'data backup',\n",
       " 'data backup aug',\n",
       " 'data backup noaug',\n",
       " 'ISIC_2019_Test_Input',\n",
       " 'ISIC_2019_Test_Metadata.csv',\n",
       " 'ISIC_2019_Training_GroundTruth.csv',\n",
       " 'ISIC_2019_Training_Input',\n",
       " 'ISIC_2019_Training_Metadata.csv',\n",
       " 'test_dir',\n",
       " 'train.csv',\n",
       " 'train_dir',\n",
       " 'val_dir',\n",
       " 'расшифровка.txt']"
      ]
     },
     "execution_count": 2,
     "metadata": {},
     "output_type": "execute_result"
    }
   ],
   "source": [
    "os.listdir('D:/Анна/универ/ДИПЛОМ/data/ISIC')"
   ]
  },
  {
   "cell_type": "code",
   "execution_count": 3,
   "metadata": {},
   "outputs": [
    {
     "data": {
      "text/plain": [
       "['ak', 'bcc', 'bkl', 'df', 'mel', 'nv', 'scc', 'unk', 'vasc']"
      ]
     },
     "execution_count": 3,
     "metadata": {},
     "output_type": "execute_result"
    }
   ],
   "source": [
    "base_dir = 'D:/Анна/универ/ДИПЛОМ/data/ISIC'\n",
    "train_dir = 'D:/Анна/универ/ДИПЛОМ/data/ISIC/train_dir'\n",
    "val_dir = 'D:/Анна/универ/ДИПЛОМ/data/ISIC/val_dir'\n",
    "test_dir='D:/Анна/универ/ДИПЛОМ/data/ISIC/test_dir'\n",
    "os.listdir('D:/Анна/универ/ДИПЛОМ/data/ISIC/train_dir')"
   ]
  },
  {
   "cell_type": "code",
   "execution_count": 4,
   "metadata": {},
   "outputs": [
    {
     "name": "stdout",
     "output_type": "stream",
     "text": [
      "1545\n",
      "542\n",
      "315\n",
      "398\n",
      "104\n",
      "31\n",
      "75\n",
      "29\n",
      "0\n"
     ]
    }
   ],
   "source": [
    "print(len(os.listdir(train_dir+'/nv')))\n",
    "print(len(os.listdir(train_dir+'/mel')))\n",
    "print(len(os.listdir(train_dir+'/bkl')))\n",
    "print(len(os.listdir(train_dir+'/bcc')))\n",
    "print(len(os.listdir(train_dir+'/ak')))\n",
    "print(len(os.listdir(train_dir+'/vasc')))\n",
    "print(len(os.listdir(train_dir+'/scc')))\n",
    "print(len(os.listdir(train_dir+'/df')))\n",
    "print(len(os.listdir(train_dir+'/unk')))"
   ]
  },
  {
   "cell_type": "code",
   "execution_count": 5,
   "metadata": {},
   "outputs": [
    {
     "name": "stdout",
     "output_type": "stream",
     "text": [
      "193\n",
      "68\n",
      "40\n",
      "50\n",
      "13\n",
      "3\n",
      "10\n",
      "3\n"
     ]
    }
   ],
   "source": [
    "print(len(os.listdir(val_dir+'/nv')))\n",
    "print(len(os.listdir(val_dir+'/mel')))\n",
    "print(len(os.listdir(val_dir+'/bkl')))\n",
    "print(len(os.listdir(val_dir+'/bcc')))\n",
    "print(len(os.listdir(val_dir+'/ak')))\n",
    "print(len(os.listdir(val_dir+'/vasc')))\n",
    "print(len(os.listdir(val_dir+'/scc')))\n",
    "print(len(os.listdir(val_dir+'/df')))"
   ]
  },
  {
   "cell_type": "code",
   "execution_count": 6,
   "metadata": {},
   "outputs": [
    {
     "name": "stdout",
     "output_type": "stream",
     "text": [
      "Found 542 images belonging to 1 classes.\n",
      "Found 315 images belonging to 1 classes.\n",
      "Found 398 images belonging to 1 classes.\n",
      "Found 104 images belonging to 1 classes.\n",
      "Found 31 images belonging to 1 classes.\n",
      "Found 29 images belonging to 1 classes.\n",
      "Found 75 images belonging to 1 classes.\n"
     ]
    }
   ],
   "source": [
    "# note that we are not augmenting class 'nv'\n",
    "class_list = ['mel','bkl','bcc','ak','vasc','df', 'scc']\n",
    "\n",
    "for item in class_list:\n",
    "    \n",
    "    # We are creating temporary directories here because we delete these directories later\n",
    "    # create a base dir\n",
    "    aug_dir = os.path.join(base_dir,'aug_dir')\n",
    "    os.mkdir(aug_dir)\n",
    "    # create a dir within the base dir to store images of the same class\n",
    "    img_dir = os.path.join(aug_dir, 'img_dir')\n",
    "    os.mkdir(img_dir)\n",
    "\n",
    "    # Choose a class\n",
    "    img_class = item\n",
    "\n",
    "    # list all images in that directory\n",
    "    img_list = os.listdir(train_dir + '/' + img_class)\n",
    "    \n",
    "\n",
    "    # Copy images from the class train dir to the img_dir \n",
    "    for fname in img_list:\n",
    "            src = os.path.join(train_dir , img_class, fname)\n",
    "            dst = os.path.join(img_dir, fname)\n",
    "            shutil.copyfile(src, dst)\n",
    "\n",
    "\n",
    "    # point to a dir containing the images and not to the images themselves\n",
    "    path = aug_dir\n",
    "    save_path = train_dir + '/' + img_class\n",
    "\n",
    "    # Create a data generator\n",
    "    datagen = ImageDataGenerator(rescale=1./255,\n",
    "        rotation_range=90,\n",
    "        width_shift_range=0.1,\n",
    "        height_shift_range=0.1,\n",
    "        zoom_range=0.1,\n",
    "        horizontal_flip=True,\n",
    "        vertical_flip=True,\n",
    "        fill_mode='nearest')\n",
    "\n",
    "    batch_size = 10\n",
    "\n",
    "    aug_datagen = datagen.flow_from_directory(path,\n",
    "                                           save_to_dir=save_path,\n",
    "                                           save_format='jpg',\n",
    "                                                    target_size=(224,224),\n",
    "                                                    batch_size=batch_size)\n",
    "\n",
    "    # Generate the augmented images and add them to the training folders\n",
    "    \n",
    "    num_aug_images_wanted = 1500 # total number of images we want to have in each class\n",
    "        \n",
    "    num_files = len(os.listdir(img_dir))\n",
    "    num_batches = int(np.ceil((num_aug_images_wanted-num_files)/batch_size))\n",
    "\n",
    "    # run the generator and create about 6000 augmented images\n",
    "    for i in range(0,num_batches):\n",
    "\n",
    "        imgs, labels = next(aug_datagen)\n",
    "        \n",
    "    # delete temporary directory with the raw image files\n",
    "    shutil.rmtree(aug_dir)"
   ]
  },
  {
   "cell_type": "code",
   "execution_count": 7,
   "metadata": {},
   "outputs": [
    {
     "name": "stdout",
     "output_type": "stream",
     "text": [
      "1545\n",
      "1494\n",
      "1490\n",
      "1504\n",
      "1432\n",
      "1177\n",
      "1420\n",
      "1460\n"
     ]
    }
   ],
   "source": [
    "print(len(os.listdir(train_dir+'/nv')))\n",
    "print(len(os.listdir(train_dir+'/mel')))\n",
    "print(len(os.listdir(train_dir+'/bkl')))\n",
    "print(len(os.listdir(train_dir+'/bcc')))\n",
    "print(len(os.listdir(train_dir+'/ak')))\n",
    "print(len(os.listdir(train_dir+'/vasc')))\n",
    "print(len(os.listdir(train_dir+'/scc')))\n",
    "print(len(os.listdir(train_dir+'/df')))"
   ]
  },
  {
   "cell_type": "code",
   "execution_count": 8,
   "metadata": {},
   "outputs": [
    {
     "name": "stdout",
     "output_type": "stream",
     "text": [
      "Found 193 images belonging to 1 classes.\n",
      "Found 68 images belonging to 1 classes.\n",
      "Found 40 images belonging to 1 classes.\n",
      "Found 50 images belonging to 1 classes.\n",
      "Found 13 images belonging to 1 classes.\n",
      "Found 3 images belonging to 1 classes.\n",
      "Found 3 images belonging to 1 classes.\n",
      "Found 10 images belonging to 1 classes.\n",
      "Found 193 images belonging to 1 classes.\n",
      "Found 68 images belonging to 1 classes.\n",
      "Found 40 images belonging to 1 classes.\n",
      "Found 50 images belonging to 1 classes.\n",
      "Found 13 images belonging to 1 classes.\n",
      "Found 3 images belonging to 1 classes.\n",
      "Found 3 images belonging to 1 classes.\n",
      "Found 10 images belonging to 1 classes.\n"
     ]
    }
   ],
   "source": [
    "class_list = ['nv','mel','bkl','bcc','ak','vasc','df', 'scc']\n",
    "dir_list= [val_dir, test_dir]\n",
    "for maindir in dir_list: \n",
    "    for item in class_list:\n",
    "\n",
    "        # We are creating temporary directories here because we delete these directories later\n",
    "        # create a base dir\n",
    "        aug_dir = os.path.join(base_dir,'aug_dir')\n",
    "        os.mkdir(aug_dir)\n",
    "        # create a dir within the base dir to store images of the same class\n",
    "        img_dir = os.path.join(aug_dir, 'img_dir')\n",
    "        os.mkdir(img_dir)\n",
    "\n",
    "        # Choose a class\n",
    "        img_class = item\n",
    "\n",
    "        # list all images in that directory\n",
    "        img_list = os.listdir(val_dir + '/' + img_class)\n",
    "\n",
    "\n",
    "        # Copy images from the class train dir to the img_dir \n",
    "        for fname in img_list:\n",
    "                src = os.path.join(val_dir , img_class, fname)\n",
    "                dst = os.path.join(img_dir, fname)\n",
    "                shutil.copyfile(src, dst)\n",
    "\n",
    "\n",
    "        # point to a dir containing the images and not to the images themselves\n",
    "        path = aug_dir\n",
    "        save_path = val_dir + '/' + img_class\n",
    "\n",
    "        # Create a data generator\n",
    "        datagen = ImageDataGenerator(rescale=1./255)\n",
    "\n",
    "        batch_size = 50\n",
    "\n",
    "        aug_datagen = datagen.flow_from_directory(path,\n",
    "                                               save_to_dir=save_path,\n",
    "                                               save_format='jpg',\n",
    "                                                        target_size=(224,224),\n",
    "                                                        batch_size=batch_size)\n",
    "\n",
    "        # delete temporary directory with the raw image files\n",
    "        shutil.rmtree(aug_dir)"
   ]
  },
  {
   "cell_type": "code",
   "execution_count": 9,
   "metadata": {},
   "outputs": [
    {
     "name": "stdout",
     "output_type": "stream",
     "text": [
      "193\n",
      "68\n",
      "40\n",
      "50\n",
      "13\n",
      "3\n",
      "10\n",
      "3\n"
     ]
    }
   ],
   "source": [
    "print(len(os.listdir(val_dir+'/nv')))\n",
    "print(len(os.listdir(val_dir+'/mel')))\n",
    "print(len(os.listdir(val_dir+'/bkl')))\n",
    "print(len(os.listdir(val_dir+'/bcc')))\n",
    "print(len(os.listdir(val_dir+'/ak')))\n",
    "print(len(os.listdir(val_dir+'/vasc')))\n",
    "print(len(os.listdir(val_dir+'/scc')))\n",
    "print(len(os.listdir(val_dir+'/df')))"
   ]
  },
  {
   "cell_type": "code",
   "execution_count": 10,
   "metadata": {},
   "outputs": [
    {
     "name": "stdout",
     "output_type": "stream",
     "text": [
      "193\n",
      "68\n",
      "39\n",
      "50\n",
      "13\n",
      "4\n",
      "9\n",
      "4\n"
     ]
    }
   ],
   "source": [
    "print(len(os.listdir(test_dir+'/nv')))\n",
    "print(len(os.listdir(test_dir+'/mel')))\n",
    "print(len(os.listdir(test_dir+'/bkl')))\n",
    "print(len(os.listdir(test_dir+'/bcc')))\n",
    "print(len(os.listdir(test_dir+'/ak')))\n",
    "print(len(os.listdir(test_dir+'/vasc')))\n",
    "print(len(os.listdir(test_dir+'/scc')))\n",
    "print(len(os.listdir(test_dir+'/df')))"
   ]
  },
  {
   "cell_type": "code",
   "execution_count": 11,
   "metadata": {},
   "outputs": [
    {
     "name": "stdout",
     "output_type": "stream",
     "text": [
      "Found 1545 images belonging to 1 classes.\n"
     ]
    }
   ],
   "source": [
    "# note that we are not augmenting class 'nv'\n",
    "class_list = ['nv']\n",
    "dir_list =[train_dir]\n",
    "for maindir in dir_list:\n",
    "    for item in class_list:\n",
    "\n",
    "        # We are creating temporary directories here because we delete these directories later\n",
    "        # create a base dir\n",
    "        aug_dir = os.path.join(base_dir,'aug_dir')\n",
    "        os.mkdir(aug_dir)\n",
    "        # create a dir within the base dir to store images of the same class\n",
    "        img_dir = os.path.join(aug_dir, 'img_dir')\n",
    "        os.mkdir(img_dir)\n",
    "\n",
    "        # Choose a class\n",
    "        img_class = item\n",
    "\n",
    "        # list all images in that directory\n",
    "        img_list = os.listdir(maindir + '/' + img_class)\n",
    "\n",
    "\n",
    "        # Copy images from the class train dir to the img_dir \n",
    "        for fname in img_list:\n",
    "                src = os.path.join(maindir , img_class, fname)\n",
    "                dst = os.path.join(img_dir, fname)\n",
    "                shutil.copyfile(src, dst)\n",
    "\n",
    "\n",
    "        # point to a dir containing the images and not to the images themselves\n",
    "        path = aug_dir\n",
    "        save_path = maindir + '/' + img_class\n",
    "\n",
    "        # Create a data generator\n",
    "        datagen = ImageDataGenerator(rescale=1./255)\n",
    "\n",
    "        batch_size = 50\n",
    "\n",
    "        aug_datagen = datagen.flow_from_directory(path,\n",
    "                                               save_to_dir=save_path,\n",
    "                                               save_format='jpg',\n",
    "                                                        target_size=(224,224),\n",
    "                                                        batch_size=batch_size)\n",
    "\n",
    "        # delete temporary directory with the raw image files\n",
    "        shutil.rmtree(aug_dir)"
   ]
  },
  {
   "cell_type": "code",
   "execution_count": null,
   "metadata": {},
   "outputs": [],
   "source": []
  }
 ],
 "metadata": {
  "kernelspec": {
   "display_name": "Python 3",
   "language": "python",
   "name": "python3"
  },
  "language_info": {
   "codemirror_mode": {
    "name": "ipython",
    "version": 3
   },
   "file_extension": ".py",
   "mimetype": "text/x-python",
   "name": "python",
   "nbconvert_exporter": "python",
   "pygments_lexer": "ipython3",
   "version": "3.7.6"
  }
 },
 "nbformat": 4,
 "nbformat_minor": 2
}
